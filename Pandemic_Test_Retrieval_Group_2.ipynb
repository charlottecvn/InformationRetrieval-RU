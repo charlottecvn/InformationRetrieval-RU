{
  "nbformat": 4,
  "nbformat_minor": 0,
  "metadata": {
    "accelerator": "TPU",
    "colab": {
      "name": "IR - Pandemic Test Retrieval - Group 2.ipynb",
      "provenance": [],
      "collapsed_sections": [],
      "toc_visible": true,
      "include_colab_link": true
    },
    "kernelspec": {
      "display_name": "Python 3",
      "name": "python3"
    }
  },
  "cells": [
    {
      "cell_type": "markdown",
      "metadata": {
        "id": "view-in-github",
        "colab_type": "text"
      },
      "source": [
        "<a href=\"https://colab.research.google.com/github/charlottecvn/InformationRetrieval-RU/blob/main/Pandemic_Test_Retrieval_Group_2.ipynb\" target=\"_parent\"><img src=\"https://colab.research.google.com/assets/colab-badge.svg\" alt=\"Open In Colab\"/></a>"
      ]
    },
    {
      "cell_type": "markdown",
      "metadata": {
        "id": "VDictMURQs8Z"
      },
      "source": [
        "# Information Retrieval - Project \n",
        "\n",
        "## Pandemic (covid-19) retrieval test collection\n",
        "\n",
        "Linda Schmeitz, Enrico Schmitz, Charlotte Cambier van Nooten \n"
      ]
    },
    {
      "cell_type": "markdown",
      "metadata": {
        "id": "aRUdDuZwd8Km"
      },
      "source": [
        "## Libraries"
      ]
    },
    {
      "cell_type": "code",
      "metadata": {
        "id": "meXu_ItlWyGu"
      },
      "source": [
        "%%capture\n",
        "!pip install pyserini==0.10.0.0\n",
        "#!pip install nltk\n",
        "\n",
        "import json\n",
        "import numpy as np\n",
        "import os\n",
        "import pandas as pd\n",
        "\n",
        "import matplotlib.pyplot as plt\n",
        "\n",
        "import gc\n",
        "\n",
        "from pyserini.search import SimpleSearcher\n",
        "from pyserini.index import IndexReader\n",
        "\n",
        "import nltk\n",
        "from nltk.tokenize import word_tokenize\n",
        "from nltk.corpus import stopwords\n",
        "nltk.download('stopwords') \n",
        "nltk.download('punkt') \n",
        "\n",
        "os.environ[\"JAVA_HOME\"] = \"/usr/lib/jvm/java-11-openjdk-amd64\""
      ],
      "execution_count": null,
      "outputs": []
    },
    {
      "cell_type": "markdown",
      "metadata": {
        "id": "547l3j0HeF_l"
      },
      "source": [
        "## Downloading data"
      ]
    },
    {
      "cell_type": "code",
      "metadata": {
        "id": "OV9be6jAvEzZ"
      },
      "source": [
        "%%capture\n",
        "!wget https://www.dropbox.com/s/dyd9sggrqo44d0n/lucene-index-cord19-full-text-2020-07-16.tar.gz\n",
        "!tar xvfz lucene-index-cord19-full-text-2020-07-16.tar.gz"
      ],
      "execution_count": null,
      "outputs": []
    },
    {
      "cell_type": "code",
      "metadata": {
        "colab": {
          "base_uri": "https://localhost:8080/"
        },
        "id": "Wpb39gBrvirI",
        "outputId": "764ac462-d2f2-4b27-ca03-4e44ba5ed3b0"
      },
      "source": [
        "!du -h lucene-index-cord19-full-text-2020-07-16"
      ],
      "execution_count": null,
      "outputs": [
        {
          "output_type": "stream",
          "text": [
            "5.2G\tlucene-index-cord19-full-text-2020-07-16\n"
          ],
          "name": "stdout"
        }
      ]
    },
    {
      "cell_type": "markdown",
      "metadata": {
        "id": "713aoVF0eJiR"
      },
      "source": [
        "## Pre-processing"
      ]
    },
    {
      "cell_type": "code",
      "metadata": {
        "colab": {
          "base_uri": "https://localhost:8080/"
        },
        "id": "jYoCdEWMHWG1",
        "outputId": "a54a8c96-ae43-4a39-e7ee-35e8bfefea19"
      },
      "source": [
        "topics_df = pd.read_csv('topics.csv',delimiter=';')\n",
        "\n",
        "full_query = topics_df['query']\n",
        "\n",
        "lower_case_query = []\n",
        "for i in full_query:\n",
        "    lower_case_query.append(i.lower())\n",
        "print(lower_case_query)\n",
        "\n",
        "sans_punctuation_query = []\n",
        "import string\n",
        "\n",
        "for i in lower_case_query:\n",
        "    sans_punctuation_query.append(''.join(c for c in i if c not in string.punctuation))\n",
        "    \n",
        "print(sans_punctuation_query)"
      ],
      "execution_count": null,
      "outputs": [
        {
          "output_type": "stream",
          "text": [
            "['coronavirus origin', 'coronavirus response to weather changes', 'coronavirus immunity', 'how do people die from the coronavirus', 'animal models of covid-19', 'coronavirus test rapid testing', 'serological tests for coronavirus', 'coronavirus under reporting', 'coronavirus in canada', 'coronavirus social distancing impact', 'coronavirus hospital rationing', 'coronavirus quarantine', 'how does coronavirus spread', 'coronavirus super spreaders', 'coronavirus outside body', 'how long does coronavirus survive on surfaces', 'coronavirus clinical trials', 'masks prevent coronavirus', 'what alcohol sanitizer kills coronavirus', 'coronavirus and ace inhibitors', 'coronavirus mortality', 'coronavirus heart impacts', 'coronavirus hypertension', 'coronavirus diabetes', 'coronavirus biomarkers', 'coronavirus early symptoms', 'coronavirus asymptomatic', 'coronavirus hydroxychloroquine', 'coronavirus drug repurposing', 'coronavirus remdesivir', 'difference between coronavirus and flu', 'coronavirus subtypes', 'coronavirus vaccine candidates', 'coronavirus recovery', 'coronavirus public datasets', 'sars-cov-2 spike structure', 'sars-cov-2 phylogenetic analysis', 'covid inflammatory response', 'covid-19 cytokine storm', 'coronavirus mutations', 'covid-19 in african-americans', 'vitamin d and covid-19', 'violence during pandemic ', 'impact of masks on coronavirus transmission', 'coronavirus mental health impact', 'dexamethasone coronavirus ', 'covid-19 outcomes in children', 'school reopening coronavirus', 'post-infection covid-19 immunity', 'mrna vaccine coronavirus ']\n",
            "['coronavirus origin', 'coronavirus response to weather changes', 'coronavirus immunity', 'how do people die from the coronavirus', 'animal models of covid19', 'coronavirus test rapid testing', 'serological tests for coronavirus', 'coronavirus under reporting', 'coronavirus in canada', 'coronavirus social distancing impact', 'coronavirus hospital rationing', 'coronavirus quarantine', 'how does coronavirus spread', 'coronavirus super spreaders', 'coronavirus outside body', 'how long does coronavirus survive on surfaces', 'coronavirus clinical trials', 'masks prevent coronavirus', 'what alcohol sanitizer kills coronavirus', 'coronavirus and ace inhibitors', 'coronavirus mortality', 'coronavirus heart impacts', 'coronavirus hypertension', 'coronavirus diabetes', 'coronavirus biomarkers', 'coronavirus early symptoms', 'coronavirus asymptomatic', 'coronavirus hydroxychloroquine', 'coronavirus drug repurposing', 'coronavirus remdesivir', 'difference between coronavirus and flu', 'coronavirus subtypes', 'coronavirus vaccine candidates', 'coronavirus recovery', 'coronavirus public datasets', 'sarscov2 spike structure', 'sarscov2 phylogenetic analysis', 'covid inflammatory response', 'covid19 cytokine storm', 'coronavirus mutations', 'covid19 in africanamericans', 'vitamin d and covid19', 'violence during pandemic ', 'impact of masks on coronavirus transmission', 'coronavirus mental health impact', 'dexamethasone coronavirus ', 'covid19 outcomes in children', 'school reopening coronavirus', 'postinfection covid19 immunity', 'mrna vaccine coronavirus ']\n"
          ],
          "name": "stdout"
        }
      ]
    },
    {
      "cell_type": "code",
      "metadata": {
        "id": "DHfa3PHqSEpf",
        "colab": {
          "base_uri": "https://localhost:8080/"
        },
        "outputId": "0c3ff964-2997-4730-cb16-aff7fb5da68f"
      },
      "source": [
        "synom_sars = [\"sars-cov-2\", \"coronavirus\", \"sarscov2\", \"corona\"]\n",
        "query_list = []\n",
        "\n",
        "for query in sans_punctuation_query:\n",
        "    query_synom = [] \n",
        "    text_tokens = word_tokenize(query)\n",
        "    tokens_without_sw = [word for word in text_tokens if not word in stopwords.words('english')]\n",
        "    \n",
        "    syn= None\n",
        "    for word in tokens_without_sw:\n",
        "      if word.lower() in synom_sars:\n",
        "        syn = word.lower()\n",
        "        break\n",
        "    filtered_sentence = (\" \").join(tokens_without_sw).lower()\n",
        "    \n",
        "    if syn != None:\n",
        "      for syns in synom_sars:\n",
        "        query_synom.append(filtered_sentence.replace(syn,syns))\n",
        "    else:\n",
        "      query_synom.append(filtered_sentence)\n",
        "    query_list.append(query_synom)\n",
        "print(query_list)"
      ],
      "execution_count": null,
      "outputs": [
        {
          "output_type": "stream",
          "text": [
            "[['sars-cov-2 origin', 'coronavirus origin', 'sarscov2 origin', 'corona origin'], ['sars-cov-2 response weather changes', 'coronavirus response weather changes', 'sarscov2 response weather changes', 'corona response weather changes'], ['sars-cov-2 immunity', 'coronavirus immunity', 'sarscov2 immunity', 'corona immunity'], ['people die sars-cov-2', 'people die coronavirus', 'people die sarscov2', 'people die corona'], ['animal models covid19'], ['sars-cov-2 test rapid testing', 'coronavirus test rapid testing', 'sarscov2 test rapid testing', 'corona test rapid testing'], ['serological tests sars-cov-2', 'serological tests coronavirus', 'serological tests sarscov2', 'serological tests corona'], ['sars-cov-2 reporting', 'coronavirus reporting', 'sarscov2 reporting', 'corona reporting'], ['sars-cov-2 canada', 'coronavirus canada', 'sarscov2 canada', 'corona canada'], ['sars-cov-2 social distancing impact', 'coronavirus social distancing impact', 'sarscov2 social distancing impact', 'corona social distancing impact'], ['sars-cov-2 hospital rationing', 'coronavirus hospital rationing', 'sarscov2 hospital rationing', 'corona hospital rationing'], ['sars-cov-2 quarantine', 'coronavirus quarantine', 'sarscov2 quarantine', 'corona quarantine'], ['sars-cov-2 spread', 'coronavirus spread', 'sarscov2 spread', 'corona spread'], ['sars-cov-2 super spreaders', 'coronavirus super spreaders', 'sarscov2 super spreaders', 'corona super spreaders'], ['sars-cov-2 outside body', 'coronavirus outside body', 'sarscov2 outside body', 'corona outside body'], ['long sars-cov-2 survive surfaces', 'long coronavirus survive surfaces', 'long sarscov2 survive surfaces', 'long corona survive surfaces'], ['sars-cov-2 clinical trials', 'coronavirus clinical trials', 'sarscov2 clinical trials', 'corona clinical trials'], ['masks prevent sars-cov-2', 'masks prevent coronavirus', 'masks prevent sarscov2', 'masks prevent corona'], ['alcohol sanitizer kills sars-cov-2', 'alcohol sanitizer kills coronavirus', 'alcohol sanitizer kills sarscov2', 'alcohol sanitizer kills corona'], ['sars-cov-2 ace inhibitors', 'coronavirus ace inhibitors', 'sarscov2 ace inhibitors', 'corona ace inhibitors'], ['sars-cov-2 mortality', 'coronavirus mortality', 'sarscov2 mortality', 'corona mortality'], ['sars-cov-2 heart impacts', 'coronavirus heart impacts', 'sarscov2 heart impacts', 'corona heart impacts'], ['sars-cov-2 hypertension', 'coronavirus hypertension', 'sarscov2 hypertension', 'corona hypertension'], ['sars-cov-2 diabetes', 'coronavirus diabetes', 'sarscov2 diabetes', 'corona diabetes'], ['sars-cov-2 biomarkers', 'coronavirus biomarkers', 'sarscov2 biomarkers', 'corona biomarkers'], ['sars-cov-2 early symptoms', 'coronavirus early symptoms', 'sarscov2 early symptoms', 'corona early symptoms'], ['sars-cov-2 asymptomatic', 'coronavirus asymptomatic', 'sarscov2 asymptomatic', 'corona asymptomatic'], ['sars-cov-2 hydroxychloroquine', 'coronavirus hydroxychloroquine', 'sarscov2 hydroxychloroquine', 'corona hydroxychloroquine'], ['sars-cov-2 drug repurposing', 'coronavirus drug repurposing', 'sarscov2 drug repurposing', 'corona drug repurposing'], ['sars-cov-2 remdesivir', 'coronavirus remdesivir', 'sarscov2 remdesivir', 'corona remdesivir'], ['difference sars-cov-2 flu', 'difference coronavirus flu', 'difference sarscov2 flu', 'difference corona flu'], ['sars-cov-2 subtypes', 'coronavirus subtypes', 'sarscov2 subtypes', 'corona subtypes'], ['sars-cov-2 vaccine candidates', 'coronavirus vaccine candidates', 'sarscov2 vaccine candidates', 'corona vaccine candidates'], ['sars-cov-2 recovery', 'coronavirus recovery', 'sarscov2 recovery', 'corona recovery'], ['sars-cov-2 public datasets', 'coronavirus public datasets', 'sarscov2 public datasets', 'corona public datasets'], ['sars-cov-2 spike structure', 'coronavirus spike structure', 'sarscov2 spike structure', 'corona spike structure'], ['sars-cov-2 phylogenetic analysis', 'coronavirus phylogenetic analysis', 'sarscov2 phylogenetic analysis', 'corona phylogenetic analysis'], ['covid inflammatory response'], ['covid19 cytokine storm'], ['sars-cov-2 mutations', 'coronavirus mutations', 'sarscov2 mutations', 'corona mutations'], ['covid19 africanamericans'], ['vitamin covid19'], ['violence pandemic'], ['impact masks sars-cov-2 transmission', 'impact masks coronavirus transmission', 'impact masks sarscov2 transmission', 'impact masks corona transmission'], ['sars-cov-2 mental health impact', 'coronavirus mental health impact', 'sarscov2 mental health impact', 'corona mental health impact'], ['dexamethasone sars-cov-2', 'dexamethasone coronavirus', 'dexamethasone sarscov2', 'dexamethasone corona'], ['covid19 outcomes children'], ['school reopening sars-cov-2', 'school reopening coronavirus', 'school reopening sarscov2', 'school reopening corona'], ['postinfection covid19 immunity'], ['mrna vaccine sars-cov-2', 'mrna vaccine coronavirus', 'mrna vaccine sarscov2', 'mrna vaccine corona']]\n"
          ],
          "name": "stdout"
        }
      ]
    },
    {
      "cell_type": "markdown",
      "metadata": {
        "id": "i9g-8Rf6eff3"
      },
      "source": [
        "## Indexing (pre-build)"
      ]
    },
    {
      "cell_type": "code",
      "metadata": {
        "id": "pIjt3OUjew8q",
        "colab": {
          "base_uri": "https://localhost:8080/"
        },
        "outputId": "3ca5872c-3ccf-43cf-c50a-51748cb52fa5"
      },
      "source": [
        "index_reader = IndexReader('lucene-index-cord19-full-text-2020-07-16/')\n",
        "print(index_reader.stats())"
      ],
      "execution_count": null,
      "outputs": [
        {
          "output_type": "stream",
          "text": [
            "{'total_terms': 275238847, 'documents': 192460, 'non_empty_documents': 192460, 'unique_terms': 1843368}\n"
          ],
          "name": "stdout"
        }
      ]
    },
    {
      "cell_type": "markdown",
      "metadata": {
        "id": "tIjNLk9Zexfg"
      },
      "source": [
        "## Ranking (own model)"
      ]
    },
    {
      "cell_type": "markdown",
      "metadata": {
        "id": "t-88JYL9IhF2"
      },
      "source": [
        "### BM25 ranking function"
      ]
    },
    {
      "cell_type": "code",
      "metadata": {
        "id": "aTW54KJ5Lig1"
      },
      "source": [
        "def ranking_bm25 (index_reader, term):\n",
        "  analyzed = index_reader.analyze(term)\n",
        "\n",
        "  docids_df =  pd.read_table('docids.txt', header=None)\n",
        "  docids_df = ((np.array(docids_df)).flatten())\n",
        "\n",
        "  query = term\n",
        "\n",
        "  doc_scores = []\n",
        "\n",
        "  doc_scores.append(\n",
        "      {\n",
        "          'doc_id': '0',\n",
        "          'score': 0\n",
        "      }\n",
        "  )\n",
        "\n",
        "  # Score determineted with the query document score\n",
        "  for i in range(0, len(docids_df)):\n",
        "    score = index_reader.compute_query_document_score(docids_df[i], query)\n",
        "    if score >= 0.0:\n",
        "      doc_scores.append(\n",
        "          {\n",
        "              'doc_id': docids_df[i],\n",
        "              'score': score\n",
        "          }\n",
        "      ) \n",
        "\n",
        "  # Return the top-10 documents\n",
        "  doc_scores_df = pd.DataFrame(doc_scores)\n",
        "  result = doc_scores_df.sort_values(by=['score'],ascending=False)\n",
        "  return result#[:10]"
      ],
      "execution_count": null,
      "outputs": []
    },
    {
      "cell_type": "markdown",
      "metadata": {
        "id": "YYpiWHDlIkfE"
      },
      "source": [
        "### Apply ranking for all the queries"
      ]
    },
    {
      "cell_type": "code",
      "metadata": {
        "id": "-JloxL_sdhvn"
      },
      "source": [
        "qrels_df = pd.read_table('qrels.txt', sep=\",\")\n",
        "qrels_df.rename(columns={'topic-id': 'topic_ids', 'cord-id': 'doc_ids'}, inplace=True)\n"
      ],
      "execution_count": null,
      "outputs": []
    },
    {
      "cell_type": "code",
      "metadata": {
        "colab": {
          "base_uri": "https://localhost:8080/"
        },
        "id": "v0UkT8qQTwHf",
        "outputId": "c8c4b793-9a09-46dd-8795-f0da79ed5d12"
      },
      "source": [
        "keys = ['ranks','doc_ids','scores','queries', 'topic_ids',  'judgement']\n",
        "data_ranking_all = {key: [] for key in keys}\n",
        "\n",
        "for j, queries in enumerate(query_list): \n",
        "  print(queries)\n",
        "\n",
        "  df_scores = pd.DataFrame(columns=keys)\n",
        "\n",
        "  for i,query in enumerate(queries):\n",
        "    df_scores_i = pd.DataFrame(columns=['doc_ids','scores','queries', 'topic_ids'])\n",
        "    rank_df = ranking_bm25 (index_reader, query)\n",
        "    rank_df = rank_df.reset_index(drop=True)\n",
        "\n",
        "    df_scores_i['doc_ids'] = rank_df['doc_id'].values\n",
        "    df_scores_i['scores'] = rank_df['score'].values\n",
        "    df_scores_i['queries'] = ([query] * len(rank_df['doc_id'].values))\n",
        "    df_scores_i['topic_ids'] = ([j+1] * len(rank_df['doc_id'].values))\n",
        "\n",
        "    # filter on topics and doc ids that match with the qrels\n",
        "    merged_qrels = pd.merge(df_scores_i, qrels_df, how='inner',on=['doc_ids','topic_ids']) #pd.merge(df_scores_i, qrels_df,how='inner', left_on=['doc_ids','topic_ids'], right_on=[' cord-id','topic-id']) \n",
        "    df_scores = df_scores.append(merged_qrels)\n",
        "\n",
        "  result_topk = df_scores.sort_values(by=['scores'],ascending=False, ignore_index=True)\n",
        "  result_topk_drop = result_topk.drop_duplicates(subset = ['doc_ids'])\n",
        "  df_scores = result_topk_drop#[:10]  \n",
        "  df_scores.loc[:,'ranks'] = range(1,len(result_topk_drop['scores'])+1)\n",
        "  \n",
        "  for key in data_ranking_all.keys():\n",
        "    data_ranking_all[key].extend(df_scores[key])\n",
        "\n",
        "df_ranking_all = pd.DataFrame(data_ranking_all)\n",
        "print(df_ranking_all)\n",
        "\n",
        "df_ranking_all.to_csv('ranking_term_queries_bm25.csv')  "
      ],
      "execution_count": null,
      "outputs": [
        {
          "output_type": "stream",
          "text": [
            "['sars-cov-2 origin', 'coronavirus origin', 'sarscov2 origin', 'corona origin']\n"
          ],
          "name": "stdout"
        },
        {
          "output_type": "stream",
          "text": [
            "/usr/local/lib/python3.6/dist-packages/pandas/core/indexing.py:1743: SettingWithCopyWarning: \n",
            "A value is trying to be set on a copy of a slice from a DataFrame.\n",
            "Try using .loc[row_indexer,col_indexer] = value instead\n",
            "\n",
            "See the caveats in the documentation: https://pandas.pydata.org/pandas-docs/stable/user_guide/indexing.html#returning-a-view-versus-a-copy\n",
            "  isetter(ilocs[0], value)\n"
          ],
          "name": "stderr"
        },
        {
          "output_type": "stream",
          "text": [
            "['sars-cov-2 response weather changes', 'coronavirus response weather changes', 'sarscov2 response weather changes', 'corona response weather changes']\n",
            "['sars-cov-2 immunity', 'coronavirus immunity', 'sarscov2 immunity', 'corona immunity']\n",
            "['people die sars-cov-2', 'people die coronavirus', 'people die sarscov2', 'people die corona']\n",
            "['animal models covid19']\n",
            "['sars-cov-2 test rapid testing', 'coronavirus test rapid testing', 'sarscov2 test rapid testing', 'corona test rapid testing']\n",
            "['serological tests sars-cov-2', 'serological tests coronavirus', 'serological tests sarscov2', 'serological tests corona']\n",
            "['sars-cov-2 reporting', 'coronavirus reporting', 'sarscov2 reporting', 'corona reporting']\n",
            "['sars-cov-2 canada', 'coronavirus canada', 'sarscov2 canada', 'corona canada']\n",
            "['sars-cov-2 social distancing impact', 'coronavirus social distancing impact', 'sarscov2 social distancing impact', 'corona social distancing impact']\n",
            "['sars-cov-2 hospital rationing', 'coronavirus hospital rationing', 'sarscov2 hospital rationing', 'corona hospital rationing']\n",
            "['sars-cov-2 quarantine', 'coronavirus quarantine', 'sarscov2 quarantine', 'corona quarantine']\n",
            "['sars-cov-2 spread', 'coronavirus spread', 'sarscov2 spread', 'corona spread']\n",
            "['sars-cov-2 super spreaders', 'coronavirus super spreaders', 'sarscov2 super spreaders', 'corona super spreaders']\n",
            "['sars-cov-2 outside body', 'coronavirus outside body', 'sarscov2 outside body', 'corona outside body']\n",
            "['long sars-cov-2 survive surfaces', 'long coronavirus survive surfaces', 'long sarscov2 survive surfaces', 'long corona survive surfaces']\n",
            "['sars-cov-2 clinical trials', 'coronavirus clinical trials', 'sarscov2 clinical trials', 'corona clinical trials']\n",
            "['masks prevent sars-cov-2', 'masks prevent coronavirus', 'masks prevent sarscov2', 'masks prevent corona']\n",
            "['alcohol sanitizer kills sars-cov-2', 'alcohol sanitizer kills coronavirus', 'alcohol sanitizer kills sarscov2', 'alcohol sanitizer kills corona']\n",
            "['sars-cov-2 ace inhibitors', 'coronavirus ace inhibitors', 'sarscov2 ace inhibitors', 'corona ace inhibitors']\n",
            "['sars-cov-2 mortality', 'coronavirus mortality', 'sarscov2 mortality', 'corona mortality']\n",
            "['sars-cov-2 heart impacts', 'coronavirus heart impacts', 'sarscov2 heart impacts', 'corona heart impacts']\n",
            "['sars-cov-2 hypertension', 'coronavirus hypertension', 'sarscov2 hypertension', 'corona hypertension']\n",
            "['sars-cov-2 diabetes', 'coronavirus diabetes', 'sarscov2 diabetes', 'corona diabetes']\n",
            "['sars-cov-2 biomarkers', 'coronavirus biomarkers', 'sarscov2 biomarkers', 'corona biomarkers']\n",
            "['sars-cov-2 early symptoms', 'coronavirus early symptoms', 'sarscov2 early symptoms', 'corona early symptoms']\n",
            "['sars-cov-2 asymptomatic', 'coronavirus asymptomatic', 'sarscov2 asymptomatic', 'corona asymptomatic']\n",
            "['sars-cov-2 hydroxychloroquine', 'coronavirus hydroxychloroquine', 'sarscov2 hydroxychloroquine', 'corona hydroxychloroquine']\n",
            "['sars-cov-2 drug repurposing', 'coronavirus drug repurposing', 'sarscov2 drug repurposing', 'corona drug repurposing']\n",
            "['sars-cov-2 remdesivir', 'coronavirus remdesivir', 'sarscov2 remdesivir', 'corona remdesivir']\n",
            "['difference sars-cov-2 flu', 'difference coronavirus flu', 'difference sarscov2 flu', 'difference corona flu']\n",
            "['sars-cov-2 subtypes', 'coronavirus subtypes', 'sarscov2 subtypes', 'corona subtypes']\n",
            "['sars-cov-2 vaccine candidates', 'coronavirus vaccine candidates', 'sarscov2 vaccine candidates', 'corona vaccine candidates']\n",
            "['sars-cov-2 recovery', 'coronavirus recovery', 'sarscov2 recovery', 'corona recovery']\n",
            "['sars-cov-2 public datasets', 'coronavirus public datasets', 'sarscov2 public datasets', 'corona public datasets']\n",
            "['sars-cov-2 spike structure', 'coronavirus spike structure', 'sarscov2 spike structure', 'corona spike structure']\n",
            "['sars-cov-2 phylogenetic analysis', 'coronavirus phylogenetic analysis', 'sarscov2 phylogenetic analysis', 'corona phylogenetic analysis']\n",
            "['covid inflammatory response']\n",
            "['covid19 cytokine storm']\n",
            "['sars-cov-2 mutations', 'coronavirus mutations', 'sarscov2 mutations', 'corona mutations']\n",
            "['covid19 africanamericans']\n",
            "['vitamin covid19']\n",
            "['violence pandemic']\n",
            "['impact masks sars-cov-2 transmission', 'impact masks coronavirus transmission', 'impact masks sarscov2 transmission', 'impact masks corona transmission']\n",
            "['sars-cov-2 mental health impact', 'coronavirus mental health impact', 'sarscov2 mental health impact', 'corona mental health impact']\n",
            "['dexamethasone sars-cov-2', 'dexamethasone coronavirus', 'dexamethasone sarscov2', 'dexamethasone corona']\n",
            "['covid19 outcomes children']\n",
            "['school reopening sars-cov-2', 'school reopening coronavirus', 'school reopening sarscov2', 'school reopening corona']\n",
            "['postinfection covid19 immunity']\n",
            "['mrna vaccine sars-cov-2', 'mrna vaccine coronavirus', 'mrna vaccine sarscov2', 'mrna vaccine corona']\n",
            "       ranks   doc_ids    scores              queries  topic_ids  judgement\n",
            "0          1  9uo0hsst  5.755288      sarscov2 origin          1          0\n",
            "1          2  42wv7zl6  4.972902    sars-cov-2 origin          1          1\n",
            "2          3  8gtnbm1c  4.958366    sars-cov-2 origin          1          2\n",
            "3          4  jm18lj5t  4.957490    sars-cov-2 origin          1          1\n",
            "4          5  siz32uvy  4.930407    sars-cov-2 origin          1          2\n",
            "...      ...       ...       ...                  ...        ...        ...\n",
            "23146    885  vqi7rh17  0.000000  mrna vaccine corona         50          0\n",
            "23147    886  bdqfcs8j  0.000000  mrna vaccine corona         50          0\n",
            "23148    887  80jww6ol  0.000000  mrna vaccine corona         50          0\n",
            "23149    888  tpi1sq0j  0.000000  mrna vaccine corona         50          0\n",
            "23150    889  um001ffd  0.000000  mrna vaccine corona         50          0\n",
            "\n",
            "[23151 rows x 6 columns]\n"
          ],
          "name": "stdout"
        }
      ]
    },
    {
      "cell_type": "code",
      "metadata": {
        "id": "bIub0qX7CVIY"
      },
      "source": [
        "#df_ranking_all = pd.read_csv(\"ranking_term_queries_bm25.csv\")\n",
        "#df_ranking_all"
      ],
      "execution_count": null,
      "outputs": []
    },
    {
      "cell_type": "markdown",
      "metadata": {
        "id": "Xzh5lcZPgZ2X"
      },
      "source": [
        "## Ranking with the use of Lucene (anserini)"
      ]
    },
    {
      "cell_type": "code",
      "metadata": {
        "id": "O7UNo7R6voYd"
      },
      "source": [
        "searcher = SimpleSearcher('lucene-index-cord19-full-text-2020-07-16/')\n",
        "topics = topics_df['query']"
      ],
      "execution_count": null,
      "outputs": []
    },
    {
      "cell_type": "code",
      "metadata": {
        "id": "dMWg5vInDkEu"
      },
      "source": [
        "docids_df =  pd.read_table('docids.txt', header=None)\n",
        "docids_df = ((np.array(docids_df)).flatten())\n",
        "\n",
        "def custom_search(searcher, topics, feedback=\"BM25\", amount_ranks =len(docids_df)):\n",
        "  # relevance feedback: bm25, rm3 (pseudo), qld (dirichlet)\n",
        "  if feedback.upper()==\"QLD\":\n",
        "    searcher.set_qld(mu=1000)\n",
        "  elif feedback.upper()==\"RM3\": #combination (reranking)\n",
        "    searcher.set_bm25(k1=float(0.9), b=float(0.4))\n",
        "    searcher.set_rm3(fb_terms=10, fb_docs=10, original_query_weight=float(0.5), rm3_output_query=False)\n",
        "  elif feedback.upper()==\"BM25\":\n",
        "    searcher.unset_rm3()\n",
        "    searcher.set_bm25(k1=float(0.9), b=float(0.4))\n",
        "  else:\n",
        "    print(\"Relevance feedback method is not defined, default is set to BM25\")\n",
        "    searcher.unset_rm3()\n",
        "    searcher.set_bm25(k1=float(0.9), b=float(0.4))\n",
        "\n",
        "  # searcher\n",
        "  hits = {}\n",
        "\n",
        "  # bag of words\n",
        "  keys = ['ranks','doc_ids','scores','topics_rep', 'topic_ids']\n",
        "  data = {key: [] for key in keys}\n",
        "\n",
        "  for i,topic in enumerate(topics):\n",
        "    gc.collect()\n",
        "    hits_i = searcher.search(topic, amount_ranks)\n",
        "    hits[topic] = [hits_i,[]]\n",
        "\n",
        "    topics_rep = [topic]*len(docids_df)\n",
        "    topic_ids = [i+1]*len(docids_df)\n",
        "    ranks = list(range(1,len(docids_df)+1)) \n",
        "\n",
        "    doc_ids = []\n",
        "    scores = []\n",
        "    for hit in hits[topic][0]:\n",
        "      if (hit.docid in docids_df):\n",
        "        if (hit.docid not in doc_ids):\n",
        "          doc_ids.append(hit.docid)\n",
        "          scores.append(hit.score)\n",
        "\n",
        "    not_ranked_docs = set(docids_df)-set(doc_ids)\n",
        "    doc_ids.extend(not_ranked_docs)\n",
        "\n",
        "    not_ranked_scores = [0.0]*len(not_ranked_docs)\n",
        "    scores.extend(not_ranked_scores)\n",
        "\n",
        "    for key in data.keys():\n",
        "        data[key].extend(eval(key))\n",
        "\n",
        "  df = pd.DataFrame(data)\n",
        "\n",
        "  return df\n"
      ],
      "execution_count": 34,
      "outputs": []
    },
    {
      "cell_type": "markdown",
      "metadata": {
        "id": "1P4ySIPHe4EK"
      },
      "source": [
        "Custom searcher will retrieve hits for top-100 ranking, due to memory issues rest of scores will be set to 0.0. Resulting in dataframe with all docids."
      ]
    },
    {
      "cell_type": "markdown",
      "metadata": {
        "id": "NHo2OyxfrAVR"
      },
      "source": [
        "### BM25"
      ]
    },
    {
      "cell_type": "code",
      "metadata": {
        "id": "Bv5SmP46HQWv"
      },
      "source": [
        "df_bm25 = custom_search(searcher, topics, feedback=\"bm25\", amount_ranks=100)\n",
        "merged_qrels_bm25 = pd.merge(df_bm25, qrels_df, how='inner',on=['doc_ids','topic_ids'])\n",
        "\n",
        "df_bm25.to_csv('ranking_term_queries_bm25_lucene.csv')\n",
        "merged_qrels_bm25.to_csv('judged_queries_bm25_lucene.csv')"
      ],
      "execution_count": null,
      "outputs": []
    },
    {
      "cell_type": "markdown",
      "metadata": {
        "id": "jCTMghDarEeX"
      },
      "source": [
        "### RM3"
      ]
    },
    {
      "cell_type": "code",
      "metadata": {
        "id": "Cg_12EZnidGK",
        "colab": {
          "base_uri": "https://localhost:8080/"
        },
        "outputId": "0ba852a2-1ddf-4062-c608-263b21f9333b"
      },
      "source": [
        "df_rm3 = custom_search(searcher, topics, feedback=\"rm3\", amount_ranks=100)\n",
        "merged_qrels_rm3 = pd.merge(df_rm3, qrels_df, how='inner',on=['doc_ids','topic_ids'])\n",
        "\n",
        "df_rm3.to_csv('ranking_term_queries_rm3_lucene.csv')\n",
        "merged_qrels_rm3.to_csv('judged_queries_rm3_lucene.csv')"
      ],
      "execution_count": 35,
      "outputs": [
        {
          "output_type": "stream",
          "text": [
            "<org.apache.lucene.search.similarities.Similarity at 0x7fa6cc3c3990 jclass=org/apache/lucene/search/similarities/Similarity jself=<LocalRef obj=0x61bc800 at 0x7fa6d04d8fd0>>\n"
          ],
          "name": "stdout"
        }
      ]
    },
    {
      "cell_type": "markdown",
      "metadata": {
        "id": "79H6C3p-RMzG"
      },
      "source": [
        "## Evaluation"
      ]
    },
    {
      "cell_type": "code",
      "metadata": {
        "id": "Dr_5VmHPBbQF"
      },
      "source": [
        "def evaluation(df, topic_id, judgement_param = 1, qrels_df = qrels_df):\n",
        "  qrels_df = qrels_df[qrels_df[\"topic_ids\"] == topic_id]\n",
        "  avg_precision = sum(df['judgement']>=judgement_param)/len(df['judgement'])\n",
        "  recall = sum(df['judgement']>=judgement_param)/sum(qrels_df['judgement']>=judgement_param)\n",
        "  return avg_precision, recall\n"
      ],
      "execution_count": 36,
      "outputs": []
    },
    {
      "cell_type": "code",
      "metadata": {
        "id": "b9fbr92WH7Gu"
      },
      "source": [
        "max_threshold = 100\n",
        "np_precision = np.zeros(shape=(max_threshold,50,3))\n",
        "np_recall = np.zeros(shape=(max_threshold,50,3))\n",
        "\n",
        "for threshold in range(0,max_threshold):\n",
        "  for i, topic in enumerate(topics):\n",
        "    topk_df = df_ranking_all[df_ranking_all[\"topic_ids\"] == i+1][:threshold+1]\n",
        "    topk_df_bm25 = merged_qrels_bm25[merged_qrels_bm25[\"topic_ids\"] == i+1][:threshold+1]\n",
        "    topk_df_rm3 = merged_qrels_rm3[merged_qrels_rm3[\"topic_ids\"] == i+1][:threshold+1]\n",
        "    \n",
        "    p, r = evaluation(topk_df, i+1)\n",
        "    p_bm25, r_bm25 = evaluation(topk_df_bm25, i+1)\n",
        "    p_rm3, r_rm3 = evaluation(topk_df_rm3, i+1)\n",
        "\n",
        "    np_precision[threshold, i, 0] = p\n",
        "    np_precision[threshold, i, 1] = p_bm25\n",
        "    np_precision[threshold, i, 2] = p_rm3\n",
        "    np_recall[threshold, i, 0] = r\n",
        "    np_recall[threshold, i, 1] = r_bm25\n",
        "    np_recall[threshold, i, 2] = r_rm3"
      ],
      "execution_count": 37,
      "outputs": []
    },
    {
      "cell_type": "code",
      "metadata": {
        "colab": {
          "base_uri": "https://localhost:8080/",
          "height": 573
        },
        "id": "_ikRnXyONkie",
        "outputId": "5314625b-6238-432b-9dd3-9ab5e689a385"
      },
      "source": [
        "plt.plot(range(1,max_threshold+1), np.mean(np_precision, axis=1)[:,0], label=\"Our model\")\n",
        "plt.plot(range(1,max_threshold+1), np.mean(np_precision, axis=1)[:,1], label=\"Lucene BM25\")\n",
        "plt.plot(range(1,max_threshold+1), np.mean(np_precision, axis=1)[:,2], label=\"Lucene RM3\")\n",
        "plt.legend()\n",
        "plt.xlabel(\"Top-k retrieved\")\n",
        "plt.ylabel(\"Precision\")\n",
        "plt.title(\"Precision for the three models\")\n",
        "plt.show()\n",
        "\n",
        "plt.plot(range(1,max_threshold+1), np.mean(np_recall, axis=1)[:,0], label=\"Our model\")\n",
        "plt.plot(range(1,max_threshold+1), np.mean(np_recall, axis=1)[:,1], label=\"Lucene BM25\")\n",
        "plt.plot(range(1,max_threshold+1), np.mean(np_recall, axis=1)[:,2], label=\"Lucene RM3\")\n",
        "plt.legend()\n",
        "plt.xlabel(\"Top-k retrieved\")\n",
        "plt.ylabel(\"Recall\")\n",
        "plt.title(\"Recall for the three models\")\n",
        "plt.show()"
      ],
      "execution_count": 38,
      "outputs": [
        {
          "output_type": "display_data",
          "data": {
            "image/png": "[encoded data removed]",
            "text/plain": [
              "<Figure size 432x288 with 1 Axes>"
            ]
          },
          "metadata": {
            "tags": [],
            "needs_background": "light"
          }
        },
        {
          "output_type": "display_data",
          "data": {
            "image/png": "[encoded data removed]",
            "text/plain": [
              "<Figure size 432x288 with 1 Axes>"
            ]
          },
          "metadata": {
            "tags": [],
            "needs_background": "light"
          }
        }
      ]
    },
    {
      "cell_type": "code",
      "metadata": {
        "colab": {
          "base_uri": "https://localhost:8080/"
        },
        "id": "7TXoGp3GMqMi",
        "outputId": "dd0cf582-2a89-4639-c445-f9660d94fed6"
      },
      "source": [
        "(np.mean(np_precision, axis=1)[:,0][-1]-np.mean(np_precision, axis=1)[:,2][-1])*100"
      ],
      "execution_count": 54,
      "outputs": [
        {
          "output_type": "execute_result",
          "data": {
            "text/plain": [
              "4.299999999999993"
            ]
          },
          "metadata": {
            "tags": []
          },
          "execution_count": 54
        }
      ]
    },
    {
      "cell_type": "code",
      "metadata": {
        "id": "W6cti7QLyhLL",
        "colab": {
          "base_uri": "https://localhost:8080/"
        },
        "outputId": "e9eee660-0864-49c3-9e35-0d60bcd4c2cd"
      },
      "source": [
        "diffs_ranks = np.zeros(shape=(3,3))\n",
        "diffs_ranks\n",
        "\n",
        "topk = 10\n",
        "\n",
        "for i, topic in enumerate(topics):\n",
        "  diffs_ranks[0,1] += len(set(df_ranking_all[df_ranking_all[\"topic_ids\"]==i][:topk][\"doc_ids\"]).intersection(set(df_bm25[df_bm25[\"topic_ids\"]==i][:topk][\"doc_ids\"])))\n",
        "  diffs_ranks[1,0] = diffs_ranks[0,1] \n",
        "\n",
        "  diffs_ranks[0,2] += len(set(df_ranking_all[df_ranking_all[\"topic_ids\"]==i][:topk][\"doc_ids\"]).intersection(set(df_rm3[df_rm3[\"topic_ids\"]==i][:topk][\"doc_ids\"])))\n",
        "  diffs_ranks[2,0] = diffs_ranks[0,2] \n",
        "\n",
        "  diffs_ranks[1,2] += len(set(df_bm25[df_bm25[\"topic_ids\"]==i][:topk][\"doc_ids\"]).intersection(set(df_rm3[df_rm3[\"topic_ids\"]==i][:topk][\"doc_ids\"])))\n",
        "  diffs_ranks[2,1] = diffs_ranks[1,2] \n",
        "\n",
        "# Diagonal, 500 of 500 (50 topics times top-k)\n",
        "diffs_ranks[0,0] = 50*topk\n",
        "diffs_ranks[1,1] = 50*topk\n",
        "diffs_ranks[2,2] = 50*topk\n",
        "\n",
        "diffs_ranks = diffs_ranks/(50*topk) #percentage\n",
        "diffs_ranks\n"
      ],
      "execution_count": 48,
      "outputs": [
        {
          "output_type": "execute_result",
          "data": {
            "text/plain": [
              "array([[1.   , 0.134, 0.096],\n",
              "       [0.134, 1.   , 0.332],\n",
              "       [0.096, 0.332, 1.   ]])"
            ]
          },
          "metadata": {
            "tags": []
          },
          "execution_count": 48
        }
      ]
    }
  ]
}